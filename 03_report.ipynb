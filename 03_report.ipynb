{
 "cells": [
  {
   "cell_type": "markdown",
   "id": "73b3b14d",
   "metadata": {},
   "source": [
    "# Automated EDA Report\n"
   ]
  },
  {
   "cell_type": "code",
   "execution_count": null,
   "id": "0f851f04",
   "metadata": {},
   "outputs": [],
   "source": [
    "import pandas as pd, pathlib\n",
    "from ydata_profiling import ProfileReport\n",
    "\n",
    "df = pd.read_excel(pathlib.Path('../data/clean/stops_clean.xlsx'))\n",
    "\n",
    "profile = ProfileReport(df, title='PID Stops EDA Report', explorative=True)\n",
    "profile.to_file('../output/eda_report.html')\n",
    "print('EDA report saved to output/eda_report.html')\n"
   ]
  }
 ],
 "metadata": {},
 "nbformat": 4,
 "nbformat_minor": 5
}
