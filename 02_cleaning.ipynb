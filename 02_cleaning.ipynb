{
 "cells": [
  {
   "cell_type": "markdown",
   "id": "6894c506",
   "metadata": {},
   "source": [
    "# Data Cleaning"
   ]
  },
  {
   "cell_type": "markdown",
   "id": "bca745d3",
   "metadata": {},
   "source": [
    "## Cleaning Steps\n",
    "Document every cleaning step here."
   ]
  },
  {
   "cell_type": "code",
   "execution_count": null,
   "id": "15cc188c",
   "metadata": {},
   "outputs": [],
   "source": [
    "# Example cleaning skeleton\n",
    "import pandas as pd, pathlib\n",
    "\n",
    "df = pd.read_json(pathlib.Path('../data/raw/stops.json'))\n",
    "\n",
    "# 1. Drop exact duplicates\n",
    "df = df.drop_duplicates()\n",
    "\n",
    "# 2. Handle missing data (example)\n",
    "# df['gps_lat'] = df['gps_lat'].fillna(df['gps_lat'].median())\n",
    "\n",
    "# 3. Convert data types\n",
    "# df['stop_id'] = df['stop_id'].astype(int)\n",
    "\n",
    "# Save cleaned version\n",
    "out_path = pathlib.Path('../data/clean/stops_clean.xlsx')\n",
    "df.to_excel(out_path, index=False)\n",
    "print(f'Saved cleaned file to {out_path.resolve()}')\n"
   ]
  }
 ],
 "metadata": {},
 "nbformat": 4,
 "nbformat_minor": 5
}
