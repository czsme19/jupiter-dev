{
 "cells": [
  {
   "cell_type": "markdown",
   "id": "a6bdfb2f",
   "metadata": {},
   "source": [
    "# Overview & Initial Inspection\n"
   ]
  },
  {
   "cell_type": "code",
   "execution_count": null,
   "id": "f9badf5b",
   "metadata": {},
   "outputs": [
    {
     "data": {
      "text/html": [
       "<div>\n",
       "<style scoped>\n",
       "    .dataframe tbody tr th:only-of-type {\n",
       "        vertical-align: middle;\n",
       "    }\n",
       "\n",
       "    .dataframe tbody tr th {\n",
       "        vertical-align: top;\n",
       "    }\n",
       "\n",
       "    .dataframe thead th {\n",
       "        text-align: right;\n",
       "    }\n",
       "</style>\n",
       "<table border=\"1\" class=\"dataframe\">\n",
       "  <thead>\n",
       "    <tr style=\"text-align: right;\">\n",
       "      <th></th>\n",
       "      <th>generatedAt</th>\n",
       "      <th>dataFormatVersion</th>\n",
       "      <th>stopGroups</th>\n",
       "    </tr>\n",
       "  </thead>\n",
       "  <tbody>\n",
       "    <tr>\n",
       "      <th>0</th>\n",
       "      <td>2025-07-24T03:52:01</td>\n",
       "      <td>3</td>\n",
       "      <td>{'name': 'Adamov', 'districtCode': 'KH', 'idos...</td>\n",
       "    </tr>\n",
       "    <tr>\n",
       "      <th>1</th>\n",
       "      <td>2025-07-24T03:52:01</td>\n",
       "      <td>3</td>\n",
       "      <td>{'name': 'Albertov', 'districtCode': 'AB', 'id...</td>\n",
       "    </tr>\n",
       "    <tr>\n",
       "      <th>2</th>\n",
       "      <td>2025-07-24T03:52:01</td>\n",
       "      <td>3</td>\n",
       "      <td>{'name': 'Ametystová', 'districtCode': 'AB', '...</td>\n",
       "    </tr>\n",
       "    <tr>\n",
       "      <th>3</th>\n",
       "      <td>2025-07-24T03:52:01</td>\n",
       "      <td>3</td>\n",
       "      <td>{'name': 'Amforová', 'districtCode': 'AB', 'id...</td>\n",
       "    </tr>\n",
       "    <tr>\n",
       "      <th>4</th>\n",
       "      <td>2025-07-24T03:52:01</td>\n",
       "      <td>3</td>\n",
       "      <td>{'name': 'Anděl', 'districtCode': 'AB', 'idosC...</td>\n",
       "    </tr>\n",
       "  </tbody>\n",
       "</table>\n",
       "</div>"
      ],
      "text/plain": [
       "           generatedAt  dataFormatVersion  \\\n",
       "0  2025-07-24T03:52:01                  3   \n",
       "1  2025-07-24T03:52:01                  3   \n",
       "2  2025-07-24T03:52:01                  3   \n",
       "3  2025-07-24T03:52:01                  3   \n",
       "4  2025-07-24T03:52:01                  3   \n",
       "\n",
       "                                          stopGroups  \n",
       "0  {'name': 'Adamov', 'districtCode': 'KH', 'idos...  \n",
       "1  {'name': 'Albertov', 'districtCode': 'AB', 'id...  \n",
       "2  {'name': 'Ametystová', 'districtCode': 'AB', '...  \n",
       "3  {'name': 'Amforová', 'districtCode': 'AB', 'id...  \n",
       "4  {'name': 'Anděl', 'districtCode': 'AB', 'idosC...  "
      ]
     },
     "metadata": {},
     "output_type": "display_data"
    },
    {
     "name": "stdout",
     "output_type": "stream",
     "text": [
      "<class 'pandas.core.frame.DataFrame'>\n",
      "RangeIndex: 8232 entries, 0 to 8231\n",
      "Data columns (total 3 columns):\n",
      " #   Column             Non-Null Count  Dtype \n",
      "---  ------             --------------  ----- \n",
      " 0   generatedAt        8232 non-null   object\n",
      " 1   dataFormatVersion  8232 non-null   int64 \n",
      " 2   stopGroups         8232 non-null   object\n",
      "dtypes: int64(1), object(2)\n",
      "memory usage: 193.1+ KB\n",
      "\n",
      "Missing values per column:\n",
      "generatedAt          0\n",
      "dataFormatVersion    0\n",
      "stopGroups           0\n",
      "dtype: int64\n"
     ]
    },
    {
     "name": "stderr",
     "output_type": "stream",
     "text": [
      "Bad pipe message: %s [b'0.9,image/avif,image/webp,image/apng,*/*;q=0.8,application/signed-exchange;v=b3;q=0.7\\r\\nHost: localhost:44843\\r\\nUs', b'-Agent: Mozilla/5.0 (X11; Linux x86_64) AppleWebKit/537.36 (KHTML, like Gecko) Chrome/138.0.0.0 Safa']\n",
      "Bad pipe message: %s [b'/537.36\\r\\nAccept-Encoding: gzip, deflate, br, zstd\\r\\nAccept-Language: cs-CZ,cs;q=0.9\\r\\nCache-Control: max-age=0\\r\\nRef', b'er: https://bookish-space-rotary-phone-x7v59597rqr2vj65.github.dev/\\r\\nX-Request-ID: 4447d58d4f789ada4']\n",
      "Bad pipe message: %s [b'35e5542e84375\\r\\nX-Real-IP: 78.80.112.88\\r\\nX-Forwarded']\n",
      "Bad pipe message: %s [b'ort: 443\\r\\nX-Forwarded-Scheme: https\\r\\nX-Origi']\n",
      "Bad pipe message: %s [b'l-URI: /\\r\\nX-Scheme: https\\r\\nsec-fetch-site: same-site\\r\\nsec-fetch-mode: navigate\\r\\nsec-fetch-dest: document\\r\\nsec', b'h-ua: \"Not)A;Brand\";v=\"8\", \"Chromium\";v=\"138', b' \"Google Chrome\";v=\"138\"\\r\\nsec-ch-']\n"
     ]
    }
   ],
   "source": [
    "import pandas as pd\n",
    "import json, pathlib\n",
    "\n",
    "# Load raw JSON\n",
    "raw_file = pathlib.Path('../data/raw/stops.json')\n",
    "if not raw_file.exists():\n",
    "    raise FileNotFoundError('Please download stops.json into data/raw/ first.')\n",
    "\n",
    "df = pd.read_json(raw_file)\n",
    "\n",
    "# Quick look\n",
    "display(df.head())\n",
    "df.info()\n",
    "print('\\nMissing values per column:')\n",
    "print(df.isna().sum())\n"
   ]
  }
 ],
 "metadata": {
  "kernelspec": {
   "display_name": "Python 3",
   "language": "python",
   "name": "python3"
  },
  "language_info": {
   "codemirror_mode": {
    "name": "ipython",
    "version": 3
   },
   "file_extension": ".py",
   "mimetype": "text/x-python",
   "name": "python",
   "nbconvert_exporter": "python",
   "pygments_lexer": "ipython3",
   "version": "3.12.1"
  }
 },
 "nbformat": 4,
 "nbformat_minor": 5
}
