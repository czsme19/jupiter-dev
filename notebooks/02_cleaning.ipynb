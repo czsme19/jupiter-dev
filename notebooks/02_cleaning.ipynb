{
 "cells": [
  {
   "cell_type": "markdown",
   "id": "6894c506",
   "metadata": {},
   "source": [
    "# Data Cleaning"
   ]
  },
  {
   "cell_type": "markdown",
   "id": "bca745d3",
   "metadata": {},
   "source": [
    "## Cleaning Steps\n",
    "Document every cleaning step here."
   ]
  },
  {
   "cell_type": "code",
   "execution_count": 2,
   "id": "15cc188c",
   "metadata": {},
   "outputs": [
    {
     "name": "stdout",
     "output_type": "stream",
     "text": [
      "Budu deduplikovat podle: None\n",
      "✅  Saved cleaned file → /workspaces/jupiter-dev/data/clean/stops_clean.xlsx\n"
     ]
    }
   ],
   "source": [
    "import pandas as pd, pathlib\n",
    "from pandas import json_normalize\n",
    "\n",
    "raw = pathlib.Path('../data/raw/stops.json')\n",
    "df_raw = pd.read_json(raw)\n",
    "\n",
    "# Rozbal stopGroups\n",
    "df = json_normalize(df_raw['stopGroups'])\n",
    "\n",
    "# 👉 zjisti, které z těchto sloupců existují\n",
    "id_col_candidates = ['idosCode', 'idosId', 'idosIds', 'uuid']\n",
    "id_col = next((c for c in id_col_candidates if c in df.columns), None)\n",
    "print(\"Budu deduplikovat podle:\", id_col)\n",
    "\n",
    "# 1) Odstraníme duplicity\n",
    "if id_col:\n",
    "    df = df.drop_duplicates(subset=id_col)\n",
    "\n",
    "# 2) Sloučíme/oddělíme souřadnice – bývají v nested kolonkách\n",
    "if 'gps.latitude' in df.columns:\n",
    "    df['latitude']  = df['gps.latitude'].astype(float)\n",
    "    df['longitude'] = df['gps.longitude'].astype(float)\n",
    "elif {'gpsLatitude', 'gpsLongitude'}.issubset(df.columns):\n",
    "    df = df.rename(columns={'gpsLatitude': 'latitude',\n",
    "                            'gpsLongitude': 'longitude'})\n",
    "\n",
    "# 3) Přehledné přejmenování pro portfolio\n",
    "rename_map = {'name': 'stop_name',\n",
    "              'districtCode': 'district_code'}\n",
    "df = df.rename(columns={k: v for k, v in rename_map.items() if k in df.columns})\n",
    "\n",
    "# 4) Ulož hotová data\n",
    "clean_path = pathlib.Path('../data/clean/stops_clean.xlsx')\n",
    "df.to_excel(clean_path, index=False)\n",
    "print(f'✅  Saved cleaned file → {clean_path.resolve()}')"
   ]
  }
 ],
 "metadata": {
  "kernelspec": {
   "display_name": "Python 3",
   "language": "python",
   "name": "python3"
  },
  "language_info": {
   "codemirror_mode": {
    "name": "ipython",
    "version": 3
   },
   "file_extension": ".py",
   "mimetype": "text/x-python",
   "name": "python",
   "nbconvert_exporter": "python",
   "pygments_lexer": "ipython3",
   "version": "3.12.1"
  }
 },
 "nbformat": 4,
 "nbformat_minor": 5
}
