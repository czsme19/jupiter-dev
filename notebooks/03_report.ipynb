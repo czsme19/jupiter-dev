{
 "cells": [
  {
   "cell_type": "markdown",
   "id": "73b3b14d",
   "metadata": {},
   "source": [
    "# Automated EDA Report\n"
   ]
  },
  {
   "cell_type": "code",
   "execution_count": 1,
   "id": "0f851f04",
   "metadata": {},
   "outputs": [
    {
     "name": "stderr",
     "output_type": "stream",
     "text": [
      "/home/codespace/.local/lib/python3.12/site-packages/tqdm/auto.py:21: TqdmWarning: IProgress not found. Please update jupyter and ipywidgets. See https://ipywidgets.readthedocs.io/en/stable/user_install.html\n",
      "  from .autonotebook import tqdm as notebook_tqdm\n"
     ]
    },
    {
     "data": {
      "text/html": [
       "\n",
       "            <div>\n",
       "                <ins><a href=\"https://ydata.ai/register\">Upgrade to ydata-sdk</a></ins>\n",
       "                <p>\n",
       "                    Improve your data and profiling with ydata-sdk, featuring data quality scoring, redundancy detection, outlier identification, text validation, and synthetic data generation.\n",
       "                </p>\n",
       "            </div>\n",
       "            "
      ],
      "text/plain": [
       "<IPython.core.display.HTML object>"
      ]
     },
     "metadata": {},
     "output_type": "display_data"
    },
    {
     "name": "stderr",
     "output_type": "stream",
     "text": [
      "100%|██████████| 13/13 [00:00<00:00, 19.81it/s]0<00:00, 28.02it/s, Describe variable: numStops]      \n",
      "Summarize dataset: 100%|██████████| 47/47 [00:03<00:00, 14.49it/s, Completed]                  \n",
      "Generate report structure: 100%|██████████| 1/1 [00:04<00:00,  4.25s/it]\n",
      "Render HTML: 100%|██████████| 1/1 [00:00<00:00,  1.17it/s]\n",
      "Export report to file: 100%|██████████| 1/1 [00:00<00:00, 106.92it/s]"
     ]
    },
    {
     "name": "stdout",
     "output_type": "stream",
     "text": [
      "📈  Report uložen → /workspaces/jupiter-dev/output/eda_report.html\n"
     ]
    },
    {
     "name": "stderr",
     "output_type": "stream",
     "text": [
      "\n"
     ]
    }
   ],
   "source": [
    "import pandas as pd, pathlib\n",
    "from ydata_profiling import ProfileReport\n",
    "\n",
    "clean_path = pathlib.Path('../data/clean/stops_clean.xlsx')\n",
    "df = pd.read_excel(clean_path)\n",
    "\n",
    "profile = ProfileReport(df,\n",
    "                        title='PID Stops – EDA Report',\n",
    "                        explorative=True,\n",
    "                        minimal=False)\n",
    "\n",
    "out_html = pathlib.Path('../output/eda_report.html')\n",
    "profile.to_file(out_html)\n",
    "print(f'📈  Report uložen → {out_html.resolve()}')"
   ]
  }
 ],
 "metadata": {
  "kernelspec": {
   "display_name": "Python 3",
   "language": "python",
   "name": "python3"
  },
  "language_info": {
   "codemirror_mode": {
    "name": "ipython",
    "version": 3
   },
   "file_extension": ".py",
   "mimetype": "text/x-python",
   "name": "python",
   "nbconvert_exporter": "python",
   "pygments_lexer": "ipython3",
   "version": "3.12.1"
  }
 },
 "nbformat": 4,
 "nbformat_minor": 5
}
