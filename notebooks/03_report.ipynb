{
 "cells": [
  {
   "cell_type": "markdown",
   "id": "73b3b14d",
   "metadata": {},
   "source": [
    "# Automated EDA Report\n"
   ]
  },
  {
   "cell_type": "code",
   "execution_count": null,
   "id": "0f851f04",
   "metadata": {},
   "outputs": [
    {
     "name": "stderr",
     "output_type": "stream",
     "text": [
      "/home/codespace/.local/lib/python3.12/site-packages/tqdm/auto.py:21: TqdmWarning: IProgress not found. Please update jupyter and ipywidgets. See https://ipywidgets.readthedocs.io/en/stable/user_install.html\n",
      "  from .autonotebook import tqdm as notebook_tqdm\n"
     ]
    },
    {
     "data": {
      "text/html": [
       "\n",
       "            <div>\n",
       "                <ins><a href=\"https://ydata.ai/register\">Upgrade to ydata-sdk</a></ins>\n",
       "                <p>\n",
       "                    Improve your data and profiling with ydata-sdk, featuring data quality scoring, redundancy detection, outlier identification, text validation, and synthetic data generation.\n",
       "                </p>\n",
       "            </div>\n",
       "            "
      ],
      "text/plain": [
       "<IPython.core.display.HTML object>"
      ]
     },
     "metadata": {},
     "output_type": "display_data"
    },
    {
     "name": "stderr",
     "output_type": "stream",
     "text": [
      "100%|██████████| 16/16 [00:01<00:00,  9.90it/s]1<00:00,  7.55it/s, Describe variable: isTrain]        \n",
      "Summarize dataset: 100%|██████████| 61/61 [00:04<00:00, 12.56it/s, Completed]                 \n",
      "Generate report structure: 100%|██████████| 1/1 [00:04<00:00,  4.92s/it]\n",
      "Render HTML: 100%|██████████| 1/1 [00:01<00:00,  1.06s/it]\n",
      "Export report to file: 100%|██████████| 1/1 [00:00<00:00, 160.28it/s]"
     ]
    },
    {
     "name": "stdout",
     "output_type": "stream",
     "text": [
      "📈  Report uložen → /workspaces/jupiter-dev/output/eda_report.html\n"
     ]
    },
    {
     "name": "stderr",
     "output_type": "stream",
     "text": [
      "\n"
     ]
    },
    {
     "name": "stderr",
     "output_type": "stream",
     "text": [
      "Bad pipe message: %s [b'0.9,image/avif,image/webp,image/apng,*/*;q=0.8,application/signed-exchange;v=b3;q=0.7\\r\\nHost: localhost:34661\\r\\nUs', b'-Agent: Mozilla/5.0 (X11; Linux x86_64) AppleWebKit/537.36 (KHTML, like Gecko) Chrome/138.0.0.0 Safa']\n",
      "Bad pipe message: %s [b'/537.36\\r\\nAccept-Encoding: gzip, deflate, br, zstd\\r\\nAccept-Language: cs-CZ,cs;q=0.9\\r\\nCache-Control: max-age=0\\r\\nRef', b'er: https://bookish-space-rotary-phone-x7v59597rqr2vj65.github.dev/\\r\\nX-Request-ID: 170f91180db43c91e']\n",
      "Bad pipe message: %s [b'cdb896441687e\\r\\nX-Real-IP: 78.80.112.88\\r\\nX-Forwarded-Po', b': 443\\r\\nX-Forwarded-Scheme: https\\r\\nX-Original-URI: /\\r\\nX-Scheme: https\\r\\nsec-fetch-site: same-site\\r\\nsec-fetch-mode: ']\n",
      "Bad pipe message: %s [b'vigate\\r\\nsec-fetch-dest: document\\r\\nsec-ch-ua: \"Not)A;Brand\";v=\"8\", \"Chromium\";v=\"138\", \"Google Chrome\";v=\"138\"', b'sec-ch-ua-mo']\n",
      "Bad pipe message: %s [b'le: ?0\\r\\nsec-ch-ua-platform: \"Linux\"\\r\\npriority: u=0, i\\r\\nX-Original-Proto: https\\r\\nX-Forwarded-Proto', b'https\\r\\nX-Forwarded-Host: bookish-space-rotary-phone-x7v59']\n"
     ]
    }
   ],
   "source": [
    "import pandas as pd, pathlib\n",
    "from ydata_profiling import ProfileReport\n",
    "\n",
    "clean_path = pathlib.Path('../data/clean/stops_clean.xlsx')\n",
    "df = pd.read_excel(clean_path)\n",
    "\n",
    "profile = ProfileReport(df,\n",
    "                        title='PID Stops – EDA Report',\n",
    "                        explorative=True,\n",
    "                        minimal=False)\n",
    "\n",
    "out_html = pathlib.Path('../output/eda_report.html')\n",
    "profile.to_file(out_html)\n",
    "print(f'📈  Report uložen → {out_html.resolve()}')"
   ]
  }
 ],
 "metadata": {
  "kernelspec": {
   "display_name": "Python 3",
   "language": "python",
   "name": "python3"
  },
  "language_info": {
   "codemirror_mode": {
    "name": "ipython",
    "version": 3
   },
   "file_extension": ".py",
   "mimetype": "text/x-python",
   "name": "python",
   "nbconvert_exporter": "python",
   "pygments_lexer": "ipython3",
   "version": "3.12.1"
  }
 },
 "nbformat": 4,
 "nbformat_minor": 5
}
