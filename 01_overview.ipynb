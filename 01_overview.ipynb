{
 "cells": [
  {
   "cell_type": "markdown",
   "id": "a6bdfb2f",
   "metadata": {},
   "source": [
    "# Overview & Initial Inspection\n"
   ]
  },
  {
   "cell_type": "code",
   "execution_count": null,
   "id": "f9badf5b",
   "metadata": {},
   "outputs": [],
   "source": [
    "import pandas as pd\n",
    "import json, pathlib\n",
    "\n",
    "# Load raw JSON\n",
    "raw_file = pathlib.Path('../data/raw/stops.json')\n",
    "if not raw_file.exists():\n",
    "    raise FileNotFoundError('Please download stops.json into data/raw/ first.')\n",
    "\n",
    "df = pd.read_json(raw_file)\n",
    "\n",
    "# Quick look\n",
    "display(df.head())\n",
    "df.info()\n",
    "print('\\nMissing values per column:')\n",
    "print(df.isna().sum())\n"
   ]
  }
 ],
 "metadata": {},
 "nbformat": 4,
 "nbformat_minor": 5
}
